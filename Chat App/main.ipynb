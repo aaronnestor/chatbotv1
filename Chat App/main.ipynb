{
 "cells": [
  {
   "cell_type": "code",
   "execution_count": 1,
   "metadata": {},
   "outputs": [],
   "source": [
    "# required modules\n",
    "import random\n",
    "import json\n",
    "import pickle\n",
    "import nltk\n",
    "import numpy as np\n",
    "from keras.models import load_model\n",
    "from nltk.stem import WordNetLemmatizer\n",
    "  \n",
    "lemmatizer = WordNetLemmatizer()\n",
    "intents = json.loads(open(\"intents.json\").read())\n",
    "words = pickle.load(open(\"words.pkl\", 'rb'))\n",
    "classes = pickle.load(open(\"classes.pkl\", 'rb'))\n",
    "model = load_model(\"chatbot_model.h5\")"
   ]
  },
  {
   "cell_type": "code",
   "execution_count": 2,
   "metadata": {},
   "outputs": [
    {
     "name": "stdout",
     "output_type": "stream",
     "text": [
      "Chatbot is up!\n"
     ]
    }
   ],
   "source": [
    "def clean_up_sentence(sentence):\n",
    "    # tokenize the pattern - split words into array\n",
    "    sentence_words = nltk.word_tokenize(sentence)\n",
    "    # stem each word - create short form for word\n",
    "    sentence_words = [lemmatizer.lemmatize(word.lower()) for word in sentence_words]\n",
    "    return sentence_words\n",
    "\n",
    "def bag_of_words(sentence):\n",
    "    # tokenize the pattern\n",
    "    sentence_words = clean_up_sentence(sentence)\n",
    "    bag = [0] * len(words)\n",
    "    for s in sentence_words:\n",
    "        for i, w in enumerate(words):\n",
    "            # check if the word is in the vocabulary\n",
    "            if w == s:\n",
    "                # assign 1 if current word is in the vocabulary position\n",
    "                bag[i] = 1\n",
    "    # return bag of words array\n",
    "    return np.array(bag)\n",
    "\n",
    "def predict_class(sentence):\n",
    "    # filter below threshold predictions\n",
    "    p = bag_of_words(sentence)\n",
    "    res = model.predict(np.array([p]))[0]\n",
    "    ERROR_THRESHOLD = 0.5\n",
    "    results = [[i, r] for i, r in enumerate(res) if r > ERROR_THRESHOLD]\n",
    "    # sort by strength of probability\n",
    "    results.sort(key=lambda x: x[1], reverse=True)\n",
    "    return_list = []\n",
    "    for r in results:\n",
    "        return_list.append({\"intent\": classes[r[0]], \"probability\": str(r[1])})\n",
    "        return return_list\n",
    "        \n",
    "def get_response(intents_list, intents_json):\n",
    "    tag = intents_list[0]['intent']\n",
    "    list_of_intents = intents_json['intents']\n",
    "    result = \"\"\n",
    "    for i in list_of_intents:\n",
    "        if i['tag'] == tag:\n",
    "            result = random.choice(i['responses'])\n",
    "            break\n",
    "    return result\n",
    "  \n",
    "print(\"Chatbot is up!\")\n"
   ]
  },
  {
   "cell_type": "code",
   "execution_count": 3,
   "metadata": {},
   "outputs": [
    {
     "name": "stdout",
     "output_type": "stream",
     "text": [
      "Start talking with the bot (type quit to stop)!\n",
      "1/1 [==============================] - 1s 708ms/step\n",
      "Hello, thanks for visiting\n",
      "1/1 [==============================] - 0s 92ms/step\n",
      "Sounds great! I've sent your order to Nichole and Robert and you will receive an order confirmation email soon!\n",
      "1/1 [==============================] - 0s 94ms/step\n",
      "Our Logistics department will be in touch with you shortly!\n"
     ]
    }
   ],
   "source": [
    "print(\"You have been connected with GarBot 1.0 (type quit to stop)!\")\n",
    "Lucas = True\n",
    "while Lucas:\n",
    "    message = input(\"\")\n",
    "    if message.lower() == \"quit\":\n",
    "        break\n",
    "    ints = predict_class(message)\n",
    "    res = get_response(ints, intents)\n",
    "    print(res)"
   ]
  },
  {
   "cell_type": "code",
   "execution_count": null,
   "metadata": {},
   "outputs": [],
   "source": []
  }
 ],
 "metadata": {
  "kernelspec": {
   "display_name": "Python 3.9.7 ('base')",
   "language": "python",
   "name": "python3"
  },
  "language_info": {
   "codemirror_mode": {
    "name": "ipython",
    "version": 3
   },
   "file_extension": ".py",
   "mimetype": "text/x-python",
   "name": "python",
   "nbconvert_exporter": "python",
   "pygments_lexer": "ipython3",
   "version": "3.9.7"
  },
  "orig_nbformat": 4,
  "vscode": {
   "interpreter": {
    "hash": "0a147c07d04dab0c5f052306a6441346faa594a42364c1466befd6b318c87e86"
   }
  }
 },
 "nbformat": 4,
 "nbformat_minor": 2
}
